{
 "cells": [
  {
   "cell_type": "markdown",
   "metadata": {},
   "source": [
    "# ML Pipeline"
   ]
  },
  {
   "cell_type": "code",
   "execution_count": 29,
   "metadata": {},
   "outputs": [],
   "source": [
    "import pandas as pd\n",
    "import numpy as np\n",
    "import seaborn as sns\n",
    "import matplotlib.pyplot as plt\n",
    "\n",
    "from sklearn.model_selection import train_test_split\n",
    "from sklearn.preprocessing import StandardScaler\n",
    "\n",
    "from sklearn.linear_model import Ridge\n",
    "from sklearn.linear_model import LinearRegression\n",
    "from sklearn.ensemble import RandomForestRegressor\n",
    "from xgboost import XGBRFRegressor\n",
    "from sklearn.metrics import mean_squared_error"
   ]
  },
  {
   "cell_type": "code",
   "execution_count": 30,
   "metadata": {},
   "outputs": [],
   "source": [
    "df=pd.read_csv(\"HousingData.csv\")"
   ]
  },
  {
   "cell_type": "code",
   "execution_count": 31,
   "metadata": {},
   "outputs": [
    {
     "data": {
      "text/html": [
       "<div>\n",
       "<style scoped>\n",
       "    .dataframe tbody tr th:only-of-type {\n",
       "        vertical-align: middle;\n",
       "    }\n",
       "\n",
       "    .dataframe tbody tr th {\n",
       "        vertical-align: top;\n",
       "    }\n",
       "\n",
       "    .dataframe thead th {\n",
       "        text-align: right;\n",
       "    }\n",
       "</style>\n",
       "<table border=\"1\" class=\"dataframe\">\n",
       "  <thead>\n",
       "    <tr style=\"text-align: right;\">\n",
       "      <th></th>\n",
       "      <th>CRIM</th>\n",
       "      <th>ZN</th>\n",
       "      <th>INDUS</th>\n",
       "      <th>CHAS</th>\n",
       "      <th>NOX</th>\n",
       "      <th>RM</th>\n",
       "      <th>AGE</th>\n",
       "      <th>DIS</th>\n",
       "      <th>RAD</th>\n",
       "      <th>TAX</th>\n",
       "      <th>PTRATIO</th>\n",
       "      <th>B</th>\n",
       "      <th>LSTAT</th>\n",
       "      <th>MEDV</th>\n",
       "    </tr>\n",
       "  </thead>\n",
       "  <tbody>\n",
       "    <tr>\n",
       "      <th>count</th>\n",
       "      <td>506.000000</td>\n",
       "      <td>506.000000</td>\n",
       "      <td>506.000000</td>\n",
       "      <td>506.000000</td>\n",
       "      <td>506.000000</td>\n",
       "      <td>506.000000</td>\n",
       "      <td>506.000000</td>\n",
       "      <td>506.000000</td>\n",
       "      <td>506.000000</td>\n",
       "      <td>506.000000</td>\n",
       "      <td>506.000000</td>\n",
       "      <td>506.000000</td>\n",
       "      <td>506.000000</td>\n",
       "      <td>506.000000</td>\n",
       "    </tr>\n",
       "    <tr>\n",
       "      <th>mean</th>\n",
       "      <td>3.607620</td>\n",
       "      <td>11.207510</td>\n",
       "      <td>11.124032</td>\n",
       "      <td>0.069170</td>\n",
       "      <td>0.554695</td>\n",
       "      <td>6.284634</td>\n",
       "      <td>68.637747</td>\n",
       "      <td>3.795043</td>\n",
       "      <td>9.549407</td>\n",
       "      <td>408.237154</td>\n",
       "      <td>18.455534</td>\n",
       "      <td>356.674032</td>\n",
       "      <td>12.750652</td>\n",
       "      <td>22.532806</td>\n",
       "    </tr>\n",
       "    <tr>\n",
       "      <th>std</th>\n",
       "      <td>8.591007</td>\n",
       "      <td>23.383171</td>\n",
       "      <td>6.864808</td>\n",
       "      <td>0.253994</td>\n",
       "      <td>0.115878</td>\n",
       "      <td>0.702617</td>\n",
       "      <td>28.162290</td>\n",
       "      <td>2.105710</td>\n",
       "      <td>8.707259</td>\n",
       "      <td>168.537116</td>\n",
       "      <td>2.164946</td>\n",
       "      <td>91.294864</td>\n",
       "      <td>7.285127</td>\n",
       "      <td>9.197104</td>\n",
       "    </tr>\n",
       "    <tr>\n",
       "      <th>min</th>\n",
       "      <td>0.006320</td>\n",
       "      <td>0.000000</td>\n",
       "      <td>0.460000</td>\n",
       "      <td>0.000000</td>\n",
       "      <td>0.385000</td>\n",
       "      <td>3.561000</td>\n",
       "      <td>2.900000</td>\n",
       "      <td>1.129600</td>\n",
       "      <td>1.000000</td>\n",
       "      <td>187.000000</td>\n",
       "      <td>12.600000</td>\n",
       "      <td>0.320000</td>\n",
       "      <td>1.730000</td>\n",
       "      <td>5.000000</td>\n",
       "    </tr>\n",
       "    <tr>\n",
       "      <th>25%</th>\n",
       "      <td>0.082757</td>\n",
       "      <td>0.000000</td>\n",
       "      <td>5.190000</td>\n",
       "      <td>0.000000</td>\n",
       "      <td>0.449000</td>\n",
       "      <td>5.885500</td>\n",
       "      <td>45.175000</td>\n",
       "      <td>2.100175</td>\n",
       "      <td>4.000000</td>\n",
       "      <td>279.000000</td>\n",
       "      <td>17.400000</td>\n",
       "      <td>375.377500</td>\n",
       "      <td>7.037500</td>\n",
       "      <td>17.025000</td>\n",
       "    </tr>\n",
       "    <tr>\n",
       "      <th>50%</th>\n",
       "      <td>0.266005</td>\n",
       "      <td>0.000000</td>\n",
       "      <td>9.690000</td>\n",
       "      <td>0.000000</td>\n",
       "      <td>0.538000</td>\n",
       "      <td>6.208500</td>\n",
       "      <td>77.500000</td>\n",
       "      <td>3.207450</td>\n",
       "      <td>5.000000</td>\n",
       "      <td>330.000000</td>\n",
       "      <td>19.050000</td>\n",
       "      <td>391.440000</td>\n",
       "      <td>11.395000</td>\n",
       "      <td>21.200000</td>\n",
       "    </tr>\n",
       "    <tr>\n",
       "      <th>75%</th>\n",
       "      <td>3.677082</td>\n",
       "      <td>12.500000</td>\n",
       "      <td>18.100000</td>\n",
       "      <td>0.000000</td>\n",
       "      <td>0.624000</td>\n",
       "      <td>6.623500</td>\n",
       "      <td>93.975000</td>\n",
       "      <td>5.188425</td>\n",
       "      <td>24.000000</td>\n",
       "      <td>666.000000</td>\n",
       "      <td>20.200000</td>\n",
       "      <td>396.225000</td>\n",
       "      <td>16.930000</td>\n",
       "      <td>25.000000</td>\n",
       "    </tr>\n",
       "    <tr>\n",
       "      <th>max</th>\n",
       "      <td>88.976200</td>\n",
       "      <td>100.000000</td>\n",
       "      <td>27.740000</td>\n",
       "      <td>1.000000</td>\n",
       "      <td>0.871000</td>\n",
       "      <td>8.780000</td>\n",
       "      <td>100.000000</td>\n",
       "      <td>12.126500</td>\n",
       "      <td>24.000000</td>\n",
       "      <td>711.000000</td>\n",
       "      <td>22.000000</td>\n",
       "      <td>396.900000</td>\n",
       "      <td>43.000000</td>\n",
       "      <td>50.000000</td>\n",
       "    </tr>\n",
       "  </tbody>\n",
       "</table>\n",
       "</div>"
      ],
      "text/plain": [
       "             CRIM          ZN       INDUS        CHAS         NOX          RM  \\\n",
       "count  506.000000  506.000000  506.000000  506.000000  506.000000  506.000000   \n",
       "mean     3.607620   11.207510   11.124032    0.069170    0.554695    6.284634   \n",
       "std      8.591007   23.383171    6.864808    0.253994    0.115878    0.702617   \n",
       "min      0.006320    0.000000    0.460000    0.000000    0.385000    3.561000   \n",
       "25%      0.082757    0.000000    5.190000    0.000000    0.449000    5.885500   \n",
       "50%      0.266005    0.000000    9.690000    0.000000    0.538000    6.208500   \n",
       "75%      3.677082   12.500000   18.100000    0.000000    0.624000    6.623500   \n",
       "max     88.976200  100.000000   27.740000    1.000000    0.871000    8.780000   \n",
       "\n",
       "              AGE         DIS         RAD         TAX     PTRATIO           B  \\\n",
       "count  506.000000  506.000000  506.000000  506.000000  506.000000  506.000000   \n",
       "mean    68.637747    3.795043    9.549407  408.237154   18.455534  356.674032   \n",
       "std     28.162290    2.105710    8.707259  168.537116    2.164946   91.294864   \n",
       "min      2.900000    1.129600    1.000000  187.000000   12.600000    0.320000   \n",
       "25%     45.175000    2.100175    4.000000  279.000000   17.400000  375.377500   \n",
       "50%     77.500000    3.207450    5.000000  330.000000   19.050000  391.440000   \n",
       "75%     93.975000    5.188425   24.000000  666.000000   20.200000  396.225000   \n",
       "max    100.000000   12.126500   24.000000  711.000000   22.000000  396.900000   \n",
       "\n",
       "            LSTAT        MEDV  \n",
       "count  506.000000  506.000000  \n",
       "mean    12.750652   22.532806  \n",
       "std      7.285127    9.197104  \n",
       "min      1.730000    5.000000  \n",
       "25%      7.037500   17.025000  \n",
       "50%     11.395000   21.200000  \n",
       "75%     16.930000   25.000000  \n",
       "max     43.000000   50.000000  "
      ]
     },
     "execution_count": 31,
     "metadata": {},
     "output_type": "execute_result"
    }
   ],
   "source": [
    "df.describe()"
   ]
  },
  {
   "cell_type": "code",
   "execution_count": 32,
   "metadata": {},
   "outputs": [
    {
     "data": {
      "text/html": [
       "<div>\n",
       "<style scoped>\n",
       "    .dataframe tbody tr th:only-of-type {\n",
       "        vertical-align: middle;\n",
       "    }\n",
       "\n",
       "    .dataframe tbody tr th {\n",
       "        vertical-align: top;\n",
       "    }\n",
       "\n",
       "    .dataframe thead th {\n",
       "        text-align: right;\n",
       "    }\n",
       "</style>\n",
       "<table border=\"1\" class=\"dataframe\">\n",
       "  <thead>\n",
       "    <tr style=\"text-align: right;\">\n",
       "      <th></th>\n",
       "      <th>CRIM</th>\n",
       "      <th>ZN</th>\n",
       "      <th>INDUS</th>\n",
       "      <th>CHAS</th>\n",
       "      <th>NOX</th>\n",
       "      <th>RM</th>\n",
       "      <th>AGE</th>\n",
       "      <th>DIS</th>\n",
       "      <th>RAD</th>\n",
       "      <th>TAX</th>\n",
       "      <th>PTRATIO</th>\n",
       "      <th>B</th>\n",
       "      <th>LSTAT</th>\n",
       "      <th>MEDV</th>\n",
       "    </tr>\n",
       "  </thead>\n",
       "  <tbody>\n",
       "    <tr>\n",
       "      <th>0</th>\n",
       "      <td>0.00632</td>\n",
       "      <td>18.0</td>\n",
       "      <td>2.31</td>\n",
       "      <td>0</td>\n",
       "      <td>0.538</td>\n",
       "      <td>6.575</td>\n",
       "      <td>65.2</td>\n",
       "      <td>4.0900</td>\n",
       "      <td>1</td>\n",
       "      <td>296</td>\n",
       "      <td>15.3</td>\n",
       "      <td>396.90</td>\n",
       "      <td>4.98</td>\n",
       "      <td>24.0</td>\n",
       "    </tr>\n",
       "    <tr>\n",
       "      <th>1</th>\n",
       "      <td>0.02731</td>\n",
       "      <td>0.0</td>\n",
       "      <td>7.07</td>\n",
       "      <td>0</td>\n",
       "      <td>0.469</td>\n",
       "      <td>6.421</td>\n",
       "      <td>78.9</td>\n",
       "      <td>4.9671</td>\n",
       "      <td>2</td>\n",
       "      <td>242</td>\n",
       "      <td>17.8</td>\n",
       "      <td>396.90</td>\n",
       "      <td>9.14</td>\n",
       "      <td>21.6</td>\n",
       "    </tr>\n",
       "    <tr>\n",
       "      <th>2</th>\n",
       "      <td>0.02729</td>\n",
       "      <td>0.0</td>\n",
       "      <td>7.07</td>\n",
       "      <td>0</td>\n",
       "      <td>0.469</td>\n",
       "      <td>7.185</td>\n",
       "      <td>61.1</td>\n",
       "      <td>4.9671</td>\n",
       "      <td>2</td>\n",
       "      <td>242</td>\n",
       "      <td>17.8</td>\n",
       "      <td>392.83</td>\n",
       "      <td>4.03</td>\n",
       "      <td>34.7</td>\n",
       "    </tr>\n",
       "    <tr>\n",
       "      <th>3</th>\n",
       "      <td>0.03237</td>\n",
       "      <td>0.0</td>\n",
       "      <td>2.18</td>\n",
       "      <td>0</td>\n",
       "      <td>0.458</td>\n",
       "      <td>6.998</td>\n",
       "      <td>45.8</td>\n",
       "      <td>6.0622</td>\n",
       "      <td>3</td>\n",
       "      <td>222</td>\n",
       "      <td>18.7</td>\n",
       "      <td>394.63</td>\n",
       "      <td>2.94</td>\n",
       "      <td>33.4</td>\n",
       "    </tr>\n",
       "    <tr>\n",
       "      <th>4</th>\n",
       "      <td>0.06905</td>\n",
       "      <td>0.0</td>\n",
       "      <td>2.18</td>\n",
       "      <td>0</td>\n",
       "      <td>0.458</td>\n",
       "      <td>7.147</td>\n",
       "      <td>54.2</td>\n",
       "      <td>6.0622</td>\n",
       "      <td>3</td>\n",
       "      <td>222</td>\n",
       "      <td>18.7</td>\n",
       "      <td>396.90</td>\n",
       "      <td>5.33</td>\n",
       "      <td>36.2</td>\n",
       "    </tr>\n",
       "  </tbody>\n",
       "</table>\n",
       "</div>"
      ],
      "text/plain": [
       "      CRIM    ZN  INDUS  CHAS    NOX     RM   AGE     DIS  RAD  TAX  PTRATIO  \\\n",
       "0  0.00632  18.0   2.31     0  0.538  6.575  65.2  4.0900    1  296     15.3   \n",
       "1  0.02731   0.0   7.07     0  0.469  6.421  78.9  4.9671    2  242     17.8   \n",
       "2  0.02729   0.0   7.07     0  0.469  7.185  61.1  4.9671    2  242     17.8   \n",
       "3  0.03237   0.0   2.18     0  0.458  6.998  45.8  6.0622    3  222     18.7   \n",
       "4  0.06905   0.0   2.18     0  0.458  7.147  54.2  6.0622    3  222     18.7   \n",
       "\n",
       "        B  LSTAT  MEDV  \n",
       "0  396.90   4.98  24.0  \n",
       "1  396.90   9.14  21.6  \n",
       "2  392.83   4.03  34.7  \n",
       "3  394.63   2.94  33.4  \n",
       "4  396.90   5.33  36.2  "
      ]
     },
     "execution_count": 32,
     "metadata": {},
     "output_type": "execute_result"
    }
   ],
   "source": [
    "df.head()"
   ]
  },
  {
   "cell_type": "code",
   "execution_count": 33,
   "metadata": {},
   "outputs": [],
   "source": [
    "X=df.drop(['MEDV'], axis=1)\n",
    "y=df['MEDV']"
   ]
  },
  {
   "cell_type": "code",
   "execution_count": 34,
   "metadata": {},
   "outputs": [],
   "source": [
    "X_train,X_test,y_train,y_test=train_test_split(X,y, test_size=0.3, random_state=4)"
   ]
  },
  {
   "cell_type": "code",
   "execution_count": 35,
   "metadata": {},
   "outputs": [],
   "source": [
    "X_cols=X_train.columns\n"
   ]
  },
  {
   "cell_type": "markdown",
   "metadata": {},
   "source": [
    "# Scaling the data"
   ]
  },
  {
   "cell_type": "code",
   "execution_count": 36,
   "metadata": {},
   "outputs": [
    {
     "data": {
      "text/html": [
       "<div>\n",
       "<style scoped>\n",
       "    .dataframe tbody tr th:only-of-type {\n",
       "        vertical-align: middle;\n",
       "    }\n",
       "\n",
       "    .dataframe tbody tr th {\n",
       "        vertical-align: top;\n",
       "    }\n",
       "\n",
       "    .dataframe thead th {\n",
       "        text-align: right;\n",
       "    }\n",
       "</style>\n",
       "<table border=\"1\" class=\"dataframe\">\n",
       "  <thead>\n",
       "    <tr style=\"text-align: right;\">\n",
       "      <th></th>\n",
       "      <th>CRIM</th>\n",
       "      <th>ZN</th>\n",
       "      <th>INDUS</th>\n",
       "      <th>CHAS</th>\n",
       "      <th>NOX</th>\n",
       "      <th>RM</th>\n",
       "      <th>AGE</th>\n",
       "      <th>DIS</th>\n",
       "      <th>RAD</th>\n",
       "      <th>TAX</th>\n",
       "      <th>PTRATIO</th>\n",
       "      <th>B</th>\n",
       "      <th>LSTAT</th>\n",
       "    </tr>\n",
       "  </thead>\n",
       "  <tbody>\n",
       "    <tr>\n",
       "      <th>0</th>\n",
       "      <td>-0.429044</td>\n",
       "      <td>-0.463008</td>\n",
       "      <td>-0.954695</td>\n",
       "      <td>-0.231455</td>\n",
       "      <td>-0.919581</td>\n",
       "      <td>0.215100</td>\n",
       "      <td>-0.745291</td>\n",
       "      <td>0.454022</td>\n",
       "      <td>-0.764468</td>\n",
       "      <td>-0.976012</td>\n",
       "      <td>0.005460</td>\n",
       "      <td>0.441889</td>\n",
       "      <td>-0.451750</td>\n",
       "    </tr>\n",
       "    <tr>\n",
       "      <th>1</th>\n",
       "      <td>-0.429897</td>\n",
       "      <td>3.049085</td>\n",
       "      <td>-1.329987</td>\n",
       "      <td>-0.231455</td>\n",
       "      <td>-1.227311</td>\n",
       "      <td>-0.883652</td>\n",
       "      <td>-1.687061</td>\n",
       "      <td>3.163428</td>\n",
       "      <td>-0.651568</td>\n",
       "      <td>-0.464548</td>\n",
       "      <td>1.616046</td>\n",
       "      <td>0.287498</td>\n",
       "      <td>-0.666204</td>\n",
       "    </tr>\n",
       "    <tr>\n",
       "      <th>2</th>\n",
       "      <td>-0.388841</td>\n",
       "      <td>-0.463008</td>\n",
       "      <td>-0.705955</td>\n",
       "      <td>4.320494</td>\n",
       "      <td>-0.423795</td>\n",
       "      <td>-0.125423</td>\n",
       "      <td>0.817111</td>\n",
       "      <td>-0.353904</td>\n",
       "      <td>-0.199967</td>\n",
       "      <td>-0.623278</td>\n",
       "      <td>-0.500725</td>\n",
       "      <td>0.423713</td>\n",
       "      <td>1.165531</td>\n",
       "    </tr>\n",
       "    <tr>\n",
       "      <th>3</th>\n",
       "      <td>-0.253177</td>\n",
       "      <td>-0.463008</td>\n",
       "      <td>-0.423759</td>\n",
       "      <td>-0.231455</td>\n",
       "      <td>-0.158805</td>\n",
       "      <td>-0.228336</td>\n",
       "      <td>1.019176</td>\n",
       "      <td>-0.021755</td>\n",
       "      <td>-0.651568</td>\n",
       "      <td>-0.623278</td>\n",
       "      <td>1.155878</td>\n",
       "      <td>-1.185126</td>\n",
       "      <td>1.012545</td>\n",
       "    </tr>\n",
       "    <tr>\n",
       "      <th>4</th>\n",
       "      <td>-0.369633</td>\n",
       "      <td>0.415015</td>\n",
       "      <td>-1.030335</td>\n",
       "      <td>-0.231455</td>\n",
       "      <td>0.157472</td>\n",
       "      <td>3.102729</td>\n",
       "      <td>-0.059711</td>\n",
       "      <td>-0.646202</td>\n",
       "      <td>-0.538668</td>\n",
       "      <td>-0.876071</td>\n",
       "      <td>-2.525462</td>\n",
       "      <td>0.306551</td>\n",
       "      <td>-0.749527</td>\n",
       "    </tr>\n",
       "  </tbody>\n",
       "</table>\n",
       "</div>"
      ],
      "text/plain": [
       "       CRIM        ZN     INDUS      CHAS       NOX        RM       AGE  \\\n",
       "0 -0.429044 -0.463008 -0.954695 -0.231455 -0.919581  0.215100 -0.745291   \n",
       "1 -0.429897  3.049085 -1.329987 -0.231455 -1.227311 -0.883652 -1.687061   \n",
       "2 -0.388841 -0.463008 -0.705955  4.320494 -0.423795 -0.125423  0.817111   \n",
       "3 -0.253177 -0.463008 -0.423759 -0.231455 -0.158805 -0.228336  1.019176   \n",
       "4 -0.369633  0.415015 -1.030335 -0.231455  0.157472  3.102729 -0.059711   \n",
       "\n",
       "        DIS       RAD       TAX   PTRATIO         B     LSTAT  \n",
       "0  0.454022 -0.764468 -0.976012  0.005460  0.441889 -0.451750  \n",
       "1  3.163428 -0.651568 -0.464548  1.616046  0.287498 -0.666204  \n",
       "2 -0.353904 -0.199967 -0.623278 -0.500725  0.423713  1.165531  \n",
       "3 -0.021755 -0.651568 -0.623278  1.155878 -1.185126  1.012545  \n",
       "4 -0.646202 -0.538668 -0.876071 -2.525462  0.306551 -0.749527  "
      ]
     },
     "execution_count": 36,
     "metadata": {},
     "output_type": "execute_result"
    }
   ],
   "source": [
    "scaler=StandardScaler()\n",
    "X_scaled=scaler.fit_transform(X_train)\n",
    "scaled_df=pd.DataFrame(X_scaled, columns=X_cols)\n",
    "scaled_df.head()"
   ]
  },
  {
   "cell_type": "code",
   "execution_count": 37,
   "metadata": {},
   "outputs": [
    {
     "data": {
      "text/html": [
       "<div>\n",
       "<style scoped>\n",
       "    .dataframe tbody tr th:only-of-type {\n",
       "        vertical-align: middle;\n",
       "    }\n",
       "\n",
       "    .dataframe tbody tr th {\n",
       "        vertical-align: top;\n",
       "    }\n",
       "\n",
       "    .dataframe thead th {\n",
       "        text-align: right;\n",
       "    }\n",
       "</style>\n",
       "<table border=\"1\" class=\"dataframe\">\n",
       "  <thead>\n",
       "    <tr style=\"text-align: right;\">\n",
       "      <th></th>\n",
       "      <th>CRIM</th>\n",
       "      <th>ZN</th>\n",
       "      <th>INDUS</th>\n",
       "      <th>CHAS</th>\n",
       "      <th>NOX</th>\n",
       "      <th>RM</th>\n",
       "      <th>AGE</th>\n",
       "      <th>DIS</th>\n",
       "      <th>RAD</th>\n",
       "      <th>TAX</th>\n",
       "      <th>PTRATIO</th>\n",
       "      <th>B</th>\n",
       "      <th>LSTAT</th>\n",
       "    </tr>\n",
       "  </thead>\n",
       "  <tbody>\n",
       "    <tr>\n",
       "      <th>84</th>\n",
       "      <td>0.05059</td>\n",
       "      <td>0.0</td>\n",
       "      <td>4.49</td>\n",
       "      <td>0</td>\n",
       "      <td>0.449</td>\n",
       "      <td>6.389</td>\n",
       "      <td>48.0</td>\n",
       "      <td>4.7794</td>\n",
       "      <td>3</td>\n",
       "      <td>247</td>\n",
       "      <td>18.5</td>\n",
       "      <td>396.90</td>\n",
       "      <td>9.62</td>\n",
       "    </tr>\n",
       "    <tr>\n",
       "      <th>354</th>\n",
       "      <td>0.04301</td>\n",
       "      <td>80.0</td>\n",
       "      <td>1.91</td>\n",
       "      <td>0</td>\n",
       "      <td>0.413</td>\n",
       "      <td>5.663</td>\n",
       "      <td>21.9</td>\n",
       "      <td>10.5857</td>\n",
       "      <td>4</td>\n",
       "      <td>334</td>\n",
       "      <td>22.0</td>\n",
       "      <td>382.80</td>\n",
       "      <td>8.05</td>\n",
       "    </tr>\n",
       "    <tr>\n",
       "      <th>221</th>\n",
       "      <td>0.40771</td>\n",
       "      <td>0.0</td>\n",
       "      <td>6.20</td>\n",
       "      <td>1</td>\n",
       "      <td>0.507</td>\n",
       "      <td>6.164</td>\n",
       "      <td>91.3</td>\n",
       "      <td>3.0480</td>\n",
       "      <td>8</td>\n",
       "      <td>307</td>\n",
       "      <td>17.4</td>\n",
       "      <td>395.24</td>\n",
       "      <td>21.46</td>\n",
       "    </tr>\n",
       "    <tr>\n",
       "      <th>34</th>\n",
       "      <td>1.61282</td>\n",
       "      <td>0.0</td>\n",
       "      <td>8.14</td>\n",
       "      <td>0</td>\n",
       "      <td>0.538</td>\n",
       "      <td>6.096</td>\n",
       "      <td>96.9</td>\n",
       "      <td>3.7598</td>\n",
       "      <td>4</td>\n",
       "      <td>307</td>\n",
       "      <td>21.0</td>\n",
       "      <td>248.31</td>\n",
       "      <td>20.34</td>\n",
       "    </tr>\n",
       "    <tr>\n",
       "      <th>267</th>\n",
       "      <td>0.57834</td>\n",
       "      <td>20.0</td>\n",
       "      <td>3.97</td>\n",
       "      <td>0</td>\n",
       "      <td>0.575</td>\n",
       "      <td>8.297</td>\n",
       "      <td>67.0</td>\n",
       "      <td>2.4216</td>\n",
       "      <td>5</td>\n",
       "      <td>264</td>\n",
       "      <td>13.0</td>\n",
       "      <td>384.54</td>\n",
       "      <td>7.44</td>\n",
       "    </tr>\n",
       "  </tbody>\n",
       "</table>\n",
       "</div>"
      ],
      "text/plain": [
       "        CRIM    ZN  INDUS  CHAS    NOX     RM   AGE      DIS  RAD  TAX  \\\n",
       "84   0.05059   0.0   4.49     0  0.449  6.389  48.0   4.7794    3  247   \n",
       "354  0.04301  80.0   1.91     0  0.413  5.663  21.9  10.5857    4  334   \n",
       "221  0.40771   0.0   6.20     1  0.507  6.164  91.3   3.0480    8  307   \n",
       "34   1.61282   0.0   8.14     0  0.538  6.096  96.9   3.7598    4  307   \n",
       "267  0.57834  20.0   3.97     0  0.575  8.297  67.0   2.4216    5  264   \n",
       "\n",
       "     PTRATIO       B  LSTAT  \n",
       "84      18.5  396.90   9.62  \n",
       "354     22.0  382.80   8.05  \n",
       "221     17.4  395.24  21.46  \n",
       "34      21.0  248.31  20.34  \n",
       "267     13.0  384.54   7.44  "
      ]
     },
     "execution_count": 37,
     "metadata": {},
     "output_type": "execute_result"
    }
   ],
   "source": [
    "X_train.head()"
   ]
  },
  {
   "cell_type": "markdown",
   "metadata": {},
   "source": [
    "### Fit the model on scaled data"
   ]
  },
  {
   "cell_type": "code",
   "execution_count": 38,
   "metadata": {},
   "outputs": [
    {
     "data": {
      "text/plain": [
       "Ridge()"
      ]
     },
     "execution_count": 38,
     "metadata": {},
     "output_type": "execute_result"
    }
   ],
   "source": [
    "ridge = Ridge()\n",
    "ridge.fit(scaled_df, y_train)"
   ]
  },
  {
   "cell_type": "code",
   "execution_count": 39,
   "metadata": {},
   "outputs": [
    {
     "data": {
      "text/plain": [
       "array([ -451.76101499,  -284.28331155,  -451.16704345,  -357.87437699,\n",
       "        -347.35445783,  -351.27344122,   -55.93308299, -1161.98579476,\n",
       "       -1382.4541158 ,  -674.11708122,  -426.92362212,  -148.50872732,\n",
       "        -407.6407934 ,  -622.75083233,  -370.60398878, -1552.1095641 ,\n",
       "        -379.61468594, -1264.50448916, -1383.75410904,  -495.84564044,\n",
       "       -1621.11237517,  -736.59083498,  -155.05928158,  -559.71248785,\n",
       "        -494.07893227,  -562.89118318,  -358.03970398,  -704.90546119,\n",
       "       -1431.46828022,  -579.84917666, -1466.47950192,  -295.59034758,\n",
       "        -244.80056884,  -126.81477686, -1172.14141627, -1182.91692606,\n",
       "        -270.29996927,  -340.3455672 ,  -277.39689832,  -341.59098213,\n",
       "        -329.12603249,  -597.33417891, -1241.6907701 ,  -185.08634975,\n",
       "        -361.30708078,  -337.17247422,  -117.93839288,  -248.78501618,\n",
       "       -1155.35216958,  -302.14867099,  -102.03365322,  -655.20366013,\n",
       "       -1201.8425542 ,  -305.65920038,  -832.85915656,  -652.22390312,\n",
       "        -545.28997919,  -168.06147919,  -475.10357508,  -165.04853506,\n",
       "        -702.45593606, -1199.05251849,  -497.92849299, -1304.57362676,\n",
       "        -208.20573124,  -203.52596889, -1135.63621648, -1576.96910006,\n",
       "       -1163.4749115 , -1141.87980531,  -179.21855168,  -370.34811662,\n",
       "        -281.37683049,  -310.59021207,  -190.38866693,  -153.12696234,\n",
       "        -703.79255966,  -366.73367884, -1551.28250048,  -863.83230767,\n",
       "        -197.30132925, -1171.46555135,  -257.53246947,  -399.30972473,\n",
       "        -179.02834131,  -301.99343873,  -266.7524609 ,  -568.98317709,\n",
       "        -322.34442362,  -115.44592138,  -333.86439756,   -33.79371651,\n",
       "        -385.74653636,  -338.53410151,  -329.52641954,  -364.73512202,\n",
       "        -173.19033864, -1142.40969631,  -653.45094113,  -177.6740892 ,\n",
       "       -1583.33856435,  -302.48017424,  -488.51791582,  -718.62193517,\n",
       "        -376.55527286,  -369.76976304,   -99.0804165 ,  -391.0387906 ,\n",
       "        -102.19472867,  -275.37832725,  -302.41686497,  -644.97800611,\n",
       "        -395.13333694,  -497.95969636,  -187.43030951,  -136.3422695 ,\n",
       "        -564.19513658, -1237.74719216, -1441.18158455,  -330.02491986,\n",
       "        -605.99098842, -1183.24766844,  -338.74179876,  -363.5367345 ,\n",
       "        -340.67405906, -1158.884499  ,  -587.31908152, -1566.54154798,\n",
       "        -449.84167192, -1166.56902171,  -348.83147136,  -409.39373931,\n",
       "        -220.79777722,  -312.89830319,  -357.73530291,  -337.58125892,\n",
       "       -1535.33757267,  -262.90741377,  -374.12193669,  -573.27836364,\n",
       "        -644.1439758 , -1193.81893095,  -413.69969062, -1165.81885341,\n",
       "       -1254.68346986,  -358.0981718 , -1173.33428992, -1246.08082885,\n",
       "       -1153.75724454,  -187.91035406,  -128.81689741, -1192.42039506])"
      ]
     },
     "execution_count": 39,
     "metadata": {},
     "output_type": "execute_result"
    }
   ],
   "source": [
    "ridge.predict(X_test)"
   ]
  },
  {
   "cell_type": "code",
   "execution_count": 40,
   "metadata": {},
   "outputs": [
    {
     "data": {
      "text/plain": [
       "751.5436370779464"
      ]
     },
     "execution_count": 40,
     "metadata": {},
     "output_type": "execute_result"
    }
   ],
   "source": [
    "np.sqrt(mean_squared_error(ridge.predict(X_test), y_test))"
   ]
  },
  {
   "cell_type": "code",
   "execution_count": 41,
   "metadata": {},
   "outputs": [
    {
     "data": {
      "text/plain": [
       "array([11.84364148, 26.69638239, 17.57180703, 19.70629745, 35.5782233 ,\n",
       "       25.03541998, 31.15452945, 20.17337945, 20.64013111, 24.76627016,\n",
       "       28.44403357, 28.22193486, 19.08801798, 33.26757033, 21.48141609,\n",
       "       15.29253593, 20.97007322, 12.331847  , 11.51530049, 13.88897421,\n",
       "        5.191639  , 17.45722113, 20.34541602, 22.54391485, 16.39583163,\n",
       "       20.46045494, 19.45308763, 14.43963696, 20.95637191, 17.68515734,\n",
       "       14.74730084, 23.54528296, 33.82429199, 21.83539322, 17.71711357,\n",
       "       20.63757059, 30.24062577, 34.01576488, 23.71094562, 24.36401783,\n",
       "       36.29900561, 31.38084983, 19.73728184, 31.48803004, 34.71219154,\n",
       "       25.4586778 , 39.97013845, 17.88809719, 20.2080626 , 28.45502604,\n",
       "       33.40474557, 25.27462953, 18.73123701, 27.36165731, 13.33153568,\n",
       "       23.21489274, 24.46043704, 33.19312841, 17.01235828, 37.91632261,\n",
       "       15.87312833, 19.54744941, 31.67674653, 15.29887839, 38.32703214,\n",
       "       27.47200059, 34.36793419,  9.99640582, 19.61814175, 22.24005412,\n",
       "       27.89160903, 22.54876823, 22.71244354, 27.85087419, 16.64834739,\n",
       "       22.92030754, 16.72313274, 24.97042349, 13.51718907, 19.33409978,\n",
       "       22.12012319, 20.68407785, 28.18326801, 19.40028832, 30.23104147,\n",
       "       22.31532346, 29.43218768, 19.54915365, 25.23682951, 37.38830758,\n",
       "       30.96933233, 41.24249559, 18.6377778 , 36.80457242, 19.78285849,\n",
       "       23.37035232, 28.10420652, 23.16598025, 10.10089942, 20.77388788,\n",
       "        9.41615644, 28.69260275, 31.98374758, 14.32077378, 24.98436827,\n",
       "       19.87240498, 36.70154386, 31.26258914, 34.01581099, 26.92688341,\n",
       "       31.18304355, 17.65823526, 12.86941315, 29.48736351, 37.27336111,\n",
       "       22.70482423, 41.95099122, 18.50096245,  3.984168  , 18.4797607 ,\n",
       "       22.13896281, 16.95629158, 26.56361862, 28.53520104, 19.49335582,\n",
       "       19.01305537, 35.1076805 , 13.25391807, 14.84333501, 18.94447767,\n",
       "       38.52027529, 16.11775553, 42.14354782, 30.4587173 , 29.58424638,\n",
       "       24.45163603, 12.5337545 , 25.99643997, 22.99802742, 18.96984902,\n",
       "       17.91226751, 22.73763938, 21.09636558, 24.96450134,  2.5761176 ,\n",
       "       22.79589892, 19.83859253, 18.23796784, 39.20217267, 19.76344924,\n",
       "       31.47739534, 19.21812616])"
      ]
     },
     "execution_count": 41,
     "metadata": {},
     "output_type": "execute_result"
    }
   ],
   "source": [
    "# while scaling data, ALWAYS do fit_transform or fit transform on train data, and predict on transformed test data\n",
    "ridge.predict(scaler.transform(X_test))"
   ]
  },
  {
   "cell_type": "code",
   "execution_count": 42,
   "metadata": {},
   "outputs": [
    {
     "data": {
      "text/plain": [
       "5.533076763080018"
      ]
     },
     "execution_count": 42,
     "metadata": {},
     "output_type": "execute_result"
    }
   ],
   "source": [
    "np.sqrt(mean_squared_error(ridge.predict(scaler.transform(X_test)), y_test))"
   ]
  },
  {
   "cell_type": "markdown",
   "metadata": {},
   "source": [
    "# ML Pipeline"
   ]
  },
  {
   "cell_type": "code",
   "execution_count": 43,
   "metadata": {},
   "outputs": [],
   "source": [
    "from sklearn.pipeline import Pipeline"
   ]
  },
  {
   "cell_type": "code",
   "execution_count": 44,
   "metadata": {},
   "outputs": [],
   "source": [
    "# the pipeline takes care of the scaling part internally\n",
    "pipeline_XGB=Pipeline(\n",
    "[\n",
    "    ('scaler', StandardScaler()),\n",
    "    ('model', XGBRFRegressor())\n",
    "]\n",
    ")\n"
   ]
  },
  {
   "cell_type": "code",
   "execution_count": 45,
   "metadata": {},
   "outputs": [
    {
     "data": {
      "text/plain": [
       "Pipeline(steps=[('scaler', StandardScaler()),\n",
       "                ('model',\n",
       "                 XGBRFRegressor(base_score=0.5, booster='gbtree',\n",
       "                                colsample_bylevel=1, colsample_bytree=1,\n",
       "                                enable_categorical=False, gamma=0, gpu_id=-1,\n",
       "                                importance_type=None,\n",
       "                                interaction_constraints='', max_delta_step=0,\n",
       "                                max_depth=6, min_child_weight=1, missing=nan,\n",
       "                                monotone_constraints='()', n_estimators=100,\n",
       "                                n_jobs=8, num_parallel_tree=100,\n",
       "                                objective='reg:squarederror', predictor='auto',\n",
       "                                random_state=0, reg_alpha=0, scale_pos_weight=1,\n",
       "                                tree_method='exact', validate_parameters=1,\n",
       "                                verbosity=None))])"
      ]
     },
     "execution_count": 45,
     "metadata": {},
     "output_type": "execute_result"
    }
   ],
   "source": [
    "pipeline_XGB.fit(X_train, y_train)"
   ]
  },
  {
   "cell_type": "code",
   "execution_count": 46,
   "metadata": {},
   "outputs": [
    {
     "data": {
      "text/plain": [
       "0.825491117344465"
      ]
     },
     "execution_count": 46,
     "metadata": {},
     "output_type": "execute_result"
    }
   ],
   "source": [
    "pipeline_XGB.score(X_test, y_test)"
   ]
  },
  {
   "cell_type": "code",
   "execution_count": 47,
   "metadata": {},
   "outputs": [
    {
     "data": {
      "text/plain": [
       "array([17.499262 , 24.489866 , 20.394697 , 16.976543 , 44.765247 ,\n",
       "       23.172613 , 34.925148 , 17.030613 , 16.612011 , 15.984259 ,\n",
       "       27.867796 , 25.40899  , 20.696114 , 23.950773 , 21.420769 ,\n",
       "       13.875251 , 20.709328 , 11.8970785, 14.598286 , 15.4360695,\n",
       "        7.942722 , 15.667612 , 20.19945  , 20.95823  , 21.134842 ,\n",
       "       20.999983 , 17.411026 , 15.84741  , 20.99398  , 18.897257 ,\n",
       "       13.970251 , 22.995417 , 33.33474  , 22.576262 , 14.667857 ,\n",
       "       13.357585 , 30.320858 , 42.94158  , 23.333706 , 22.746521 ,\n",
       "       47.00133  , 29.336946 , 13.24968  , 28.728289 , 28.734552 ,\n",
       "       20.822725 , 49.434635 , 18.03025  , 21.020653 , 22.303976 ,\n",
       "       29.035036 , 21.456371 , 12.406068 , 26.777029 , 15.421854 ,\n",
       "       21.069775 , 25.34574  , 30.114408 , 20.248762 , 29.02377  ,\n",
       "       17.640156 , 20.974066 , 27.56376  , 20.686312 , 47.139843 ,\n",
       "       26.842985 , 28.958607 ,  8.926995 , 19.606512 , 21.575066 ,\n",
       "       21.230038 , 21.047062 , 25.804817 , 26.599344 , 17.410276 ,\n",
       "       34.44059  , 16.080885 , 23.892487 , 16.682928 , 21.071062 ,\n",
       "       20.919706 , 16.20194  , 26.304789 , 20.665514 , 23.36669  ,\n",
       "       21.278858 , 33.179367 , 20.680086 , 18.909504 , 47.498215 ,\n",
       "       26.646948 , 48.83918  , 18.44918  , 47.968456 , 21.34466  ,\n",
       "       21.122454 , 22.094702 , 29.574566 , 15.544491 , 21.06055  ,\n",
       "        9.518996 , 21.57061  , 34.28145  , 15.940619 , 23.872929 ,\n",
       "       21.026777 , 37.61633  , 32.489204 , 44.788486 , 22.150196 ,\n",
       "       22.048641 , 20.715593 , 16.371315 , 29.579357 , 39.16643  ,\n",
       "       23.498455 , 48.99033  , 14.824128 , 12.587602 , 20.202904 ,\n",
       "       21.479288 , 13.451799 , 23.168049 , 22.131945 , 20.805845 ,\n",
       "       19.068697 , 48.940643 , 14.651785 , 15.358597 , 13.886935 ,\n",
       "       44.769997 , 16.53736  , 48.269306 , 25.262825 , 38.84355  ,\n",
       "       19.7204   , 11.301092 , 23.153772 , 20.805956 , 19.820543 ,\n",
       "       15.612825 , 21.864983 , 22.0831   , 27.249    , 17.856524 ,\n",
       "       20.165834 , 15.58822  , 14.993176 , 38.862904 , 20.970697 ,\n",
       "       26.60041  , 15.6024685], dtype=float32)"
      ]
     },
     "execution_count": 47,
     "metadata": {},
     "output_type": "execute_result"
    }
   ],
   "source": [
    "pipeline_XGB.predict(X_test)"
   ]
  },
  {
   "cell_type": "markdown",
   "metadata": {},
   "source": [
    "# Hyperparameter tuning using Gridserach on single model"
   ]
  },
  {
   "cell_type": "code",
   "execution_count": 49,
   "metadata": {},
   "outputs": [],
   "source": [
    "from sklearn.model_selection import GridSearchCV"
   ]
  },
  {
   "cell_type": "code",
   "execution_count": 50,
   "metadata": {},
   "outputs": [],
   "source": [
    "pipeline_ridge = Pipeline(\n",
    "[\n",
    "    ('scaler', StandardScaler()),\n",
    "    ('model', Ridge())\n",
    "]\n",
    ")"
   ]
  },
  {
   "cell_type": "code",
   "execution_count": 52,
   "metadata": {},
   "outputs": [],
   "source": [
    "cv = GridSearchCV(\n",
    "    pipeline_ridge, \n",
    "    param_grid = {\n",
    "        \"model__alpha\" : [0.001, 0.01, 0.1, 1, 10, 100, 1000]\n",
    "        \n",
    "    },\n",
    "    cv=4\n",
    ")"
   ]
  },
  {
   "cell_type": "code",
   "execution_count": 54,
   "metadata": {},
   "outputs": [
    {
     "data": {
      "text/plain": [
       "GridSearchCV(cv=4,\n",
       "             estimator=Pipeline(steps=[('scaler', StandardScaler()),\n",
       "                                       ('model', Ridge())]),\n",
       "             param_grid={'model__alpha': [0.001, 0.01, 0.1, 1, 10, 100, 1000]})"
      ]
     },
     "execution_count": 54,
     "metadata": {},
     "output_type": "execute_result"
    }
   ],
   "source": [
    "cv.fit(X_train, y_train)"
   ]
  },
  {
   "cell_type": "code",
   "execution_count": 55,
   "metadata": {},
   "outputs": [
    {
     "data": {
      "text/plain": [
       "Pipeline(steps=[('scaler', StandardScaler()), ('model', Ridge(alpha=1))])"
      ]
     },
     "execution_count": 55,
     "metadata": {},
     "output_type": "execute_result"
    }
   ],
   "source": [
    "cv.best_estimator_"
   ]
  },
  {
   "cell_type": "code",
   "execution_count": 56,
   "metadata": {},
   "outputs": [
    {
     "data": {
      "text/plain": [
       "0.7068098326584312"
      ]
     },
     "execution_count": 56,
     "metadata": {},
     "output_type": "execute_result"
    }
   ],
   "source": [
    "cv.score(X_test, y_test)"
   ]
  },
  {
   "cell_type": "code",
   "execution_count": 57,
   "metadata": {},
   "outputs": [
    {
     "data": {
      "text/plain": [
       "5.533076763080018"
      ]
     },
     "execution_count": 57,
     "metadata": {},
     "output_type": "execute_result"
    }
   ],
   "source": [
    "np.sqrt(mean_squared_error(cv.best_estimator_.predict(X_test), y_test))"
   ]
  },
  {
   "cell_type": "markdown",
   "metadata": {},
   "source": [
    "# Hyperparameter tuning using Gridserach on multiple models"
   ]
  },
  {
   "cell_type": "code",
   "execution_count": 58,
   "metadata": {},
   "outputs": [],
   "source": [
    "#initialize the pipeline\n",
    "pipe = Pipeline(\n",
    "[\n",
    "    (\"regressor\" , RandomForestRegressor())\n",
    "]\n",
    ")\n",
    "\n",
    "# set up the parameters for all models\n",
    "grid_param = [\n",
    "    {\n",
    "        \"regressor\" : [RandomForestRegressor()],\n",
    "        \"regressor__n_estimators\" : [10, 100, 150],\n",
    "        \"regressor__max_depth\" : [5, 10, 15, 20]\n",
    "        \n",
    "    },\n",
    "    \n",
    "    {\n",
    "        \"regressor\" : [XGBRFRegressor()],\n",
    "        \"regressor__min_child_weight\" : [1, 5, 10],\n",
    "        \"regressor__gamma\" : [0.5, 1, 1.5, 2, 5],\n",
    "        \"regressor__subsample\" : [0.6, 0.8, 1.0],\n",
    "        \"regressor__colsample_bytree\" : [0.6, 0.8, 1.0],\n",
    "        \"regressor__max_depth\" : [3, 4, 5]\n",
    "        \n",
    "    },\n",
    "    \n",
    "    {\n",
    "        \"regressor\" : [Ridge()],\n",
    "        \"regressor__alpha\" : [0.001, 0.01, 0.1, 1, 10, 100, 1000]\n",
    "    }\n",
    "    \n",
    "    \n",
    "]"
   ]
  },
  {
   "cell_type": "code",
   "execution_count": 59,
   "metadata": {},
   "outputs": [],
   "source": [
    "gridSearch = GridSearchCV(pipe, grid_param, cv=4)\n",
    "bestModel = gridSearch.fit(X_train, y_train)"
   ]
  },
  {
   "cell_type": "code",
   "execution_count": 60,
   "metadata": {},
   "outputs": [
    {
     "data": {
      "text/plain": [
       "Pipeline(steps=[('regressor', RandomForestRegressor(max_depth=10))])"
      ]
     },
     "execution_count": 60,
     "metadata": {},
     "output_type": "execute_result"
    }
   ],
   "source": [
    "bestModel.best_estimator_"
   ]
  },
  {
   "cell_type": "code",
   "execution_count": 61,
   "metadata": {},
   "outputs": [
    {
     "data": {
      "text/plain": [
       "0.8223721098192155"
      ]
     },
     "execution_count": 61,
     "metadata": {},
     "output_type": "execute_result"
    }
   ],
   "source": [
    "bestModel.score(X_test, y_test)"
   ]
  },
  {
   "cell_type": "code",
   "execution_count": 62,
   "metadata": {},
   "outputs": [
    {
     "data": {
      "text/plain": [
       "5.533076763080018"
      ]
     },
     "execution_count": 62,
     "metadata": {},
     "output_type": "execute_result"
    }
   ],
   "source": [
    "np.sqrt(mean_squared_error(cv.best_estimator_.predict(X_test), y_test))"
   ]
  },
  {
   "cell_type": "code",
   "execution_count": null,
   "metadata": {},
   "outputs": [],
   "source": []
  }
 ],
 "metadata": {
  "kernelspec": {
   "display_name": "Python 3",
   "language": "python",
   "name": "python3"
  },
  "language_info": {
   "codemirror_mode": {
    "name": "ipython",
    "version": 3
   },
   "file_extension": ".py",
   "mimetype": "text/x-python",
   "name": "python",
   "nbconvert_exporter": "python",
   "pygments_lexer": "ipython3",
   "version": "3.8.5"
  }
 },
 "nbformat": 4,
 "nbformat_minor": 4
}
